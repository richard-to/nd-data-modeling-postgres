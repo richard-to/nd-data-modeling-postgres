{
 "cells": [
  {
   "cell_type": "markdown",
   "metadata": {
    "editable": true
   },
   "source": [
    "# Project 1B - Data Modeling with Cassandra"
   ]
  },
  {
   "cell_type": "code",
   "execution_count": 1,
   "metadata": {
    "editable": true
   },
   "outputs": [],
   "source": [
    "# Import Python packages \n",
    "\n",
    "import csv\n",
    "import glob\n",
    "import json\n",
    "import re\n",
    "import os\n",
    "\n",
    "import cassandra\n",
    "import numpy as np\n",
    "import pandas as pd"
   ]
  },
  {
   "cell_type": "code",
   "execution_count": 2,
   "metadata": {
    "editable": true
   },
   "outputs": [],
   "source": [
    "# Constants\n",
    "\n",
    "COLLECTED_EVENTS_CSV = \"event_data_new.csv\""
   ]
  },
  {
   "cell_type": "markdown",
   "metadata": {
    "editable": true
   },
   "source": [
    "## 1. ETL Pipeline\n",
    "\n",
    "### 1.1 Collect file paths from event_data folder"
   ]
  },
  {
   "cell_type": "code",
   "execution_count": 3,
   "metadata": {
    "editable": true
   },
   "outputs": [
    {
     "data": {
      "text/plain": [
       "30"
      ]
     },
     "execution_count": 3,
     "metadata": {},
     "output_type": "execute_result"
    }
   ],
   "source": [
    "# Get filepath to event_data directory (should be /home/workspace/event_data/ in Project Workspace)\n",
    "filepath = os.path.join(os.getcwd(), \"event_data\")\n",
    "\n",
    "# Retrieve event log files from event_data directory\n",
    "file_path_list = []\n",
    "for root, _, _ in os.walk(filepath):\n",
    "    # Since there is only one directory of logs, this loop should run only once\n",
    "    file_path_list.extend(glob.glob(os.path.join(root, \"*.csv\")))\n",
    "    \n",
    "# Should be 30 files in the event_data directory\n",
    "len(file_path_list)"
   ]
  },
  {
   "cell_type": "markdown",
   "metadata": {
    "editable": true
   },
   "source": [
    "### 1.2 Combine event data from all logs into one file"
   ]
  },
  {
   "cell_type": "code",
   "execution_count": 4,
   "metadata": {
    "editable": true
   },
   "outputs": [],
   "source": [
    "# Store event data for all logs\n",
    "full_data_rows_list = [] \n",
    "    \n",
    "# Process each event log\n",
    "for f in file_path_list:\n",
    "    # Read csv file and collect all events\n",
    "    with open(f, \"r\", encoding = \"utf8\", newline=\"\") as csvfile:  \n",
    "        csvreader = csv.reader(csvfile) \n",
    "        next(csvreader)  # Skip header\n",
    "        full_data_rows_list.extend([line for line in csvreader])\n",
    "\n",
    "csv.register_dialect(\"myDialect\", quoting=csv.QUOTE_ALL, skipinitialspace=True)\n",
    "\n",
    "# Export collected events into a single CSV file\n",
    "with open(COLLECTED_EVENTS_CSV, \"w\", encoding=\"utf8\", newline=\"\") as f:\n",
    "    writer = csv.writer(f, dialect=\"myDialect\")\n",
    "    writer.writerow([\n",
    "        \"artist\",\n",
    "        \"firstName\",\n",
    "        \"gender\",\n",
    "        \"itemInSession\",\n",
    "        \"lastName\",\n",
    "        \"length\",\n",
    "        \"level\",\n",
    "        \"location\",\n",
    "        \"sessionId\",\n",
    "        \"song\",\n",
    "        \"userId\"\n",
    "    ])\n",
    "    for row in full_data_rows_list:\n",
    "        if (row[0] == \"\"):\n",
    "            continue\n",
    "        writer.writerow((row[0], row[2], row[3], row[4], row[5], row[6], row[7], row[8], row[12], row[13], row[16]))"
   ]
  },
  {
   "cell_type": "code",
   "execution_count": 5,
   "metadata": {
    "editable": true
   },
   "outputs": [
    {
     "name": "stdout",
     "output_type": "stream",
     "text": [
      "6821\n"
     ]
    }
   ],
   "source": [
    "# Should be 6,821 rows in the combined event data CSV\n",
    "with open(COLLECTED_EVENTS_CSV, \"r\", encoding=\"utf8\") as f:\n",
    "    print(sum(1 for line in f))"
   ]
  },
  {
   "cell_type": "markdown",
   "metadata": {
    "editable": true
   },
   "source": [
    "## 2. Apache Cassandra data modeling\n",
    "\n",
    "### 2.1 CSV Input\n",
    "\n",
    "The image below shows the columns and sample of the data from the CSV file we'll be working with.\n",
    "<img src=\"images/image_event_datafile_new.jpg\">"
   ]
  },
  {
   "cell_type": "markdown",
   "metadata": {
    "editable": true
   },
   "source": [
    "### 2.2 Initialize Cassandra connection\n",
    "\n",
    "- Create connection to a Cassandra session\n",
    "- Create and set keyspace"
   ]
  },
  {
   "cell_type": "code",
   "execution_count": 6,
   "metadata": {
    "editable": true
   },
   "outputs": [],
   "source": [
    "from cassandra.cluster import Cluster\n",
    "cluster = Cluster()\n",
    "\n",
    "# To establish connection and begin executing queries, we need a session\n",
    "session = cluster.connect()\n",
    "\n",
    "# Create keyspace\n",
    "try:\n",
    "    session.execute(\"\"\"\n",
    "        CREATE KEYSPACE IF NOT EXISTS sparkify \n",
    "        WITH REPLICATION = \n",
    "        { 'class' : 'SimpleStrategy', 'replication_factor' : 1 }\n",
    "    \"\"\")\n",
    "except Exception as e:\n",
    "    print(e)\n",
    "\n",
    "# Set keyspace\n",
    "try:\n",
    "    session.set_keyspace(\"sparkify\")\n",
    "except Exception as e:\n",
    "    print(e)    "
   ]
  },
  {
   "cell_type": "markdown",
   "metadata": {
    "editable": true
   },
   "source": [
    "### 2.3 Question 1\n",
    "\n",
    "Give me the artist, song title and song's length in the music app history that was heard during \n",
    "sessionId = 338, and itemInSession = 4"
   ]
  },
  {
   "cell_type": "markdown",
   "metadata": {
    "editable": true
   },
   "source": [
    "#### 2.3.1 Table\n",
    "\n",
    "In order to answer this query, we'll need to set a partition key of `session_id` and add `item_in_session` as a clustering column which will uniquely distinguish each row.\n",
    "\n",
    "We will also include columns for `artist`, `song`, and `length`, which are required for answering the query in question."
   ]
  },
  {
   "cell_type": "code",
   "execution_count": 7,
   "metadata": {
    "editable": true
   },
   "outputs": [],
   "source": [
    "# Drop the song_history__by_session table in case we need to rerun some cells\n",
    "drop_query = \"DROP TABLE IF EXISTS song_history__by_session;\"\n",
    "try:\n",
    "    session.execute(drop_query)\n",
    "except Exception as e:\n",
    "    print(e) \n",
    "\n",
    "# Create the song_history__by_session\n",
    "create_query = \"\"\"\n",
    "CREATE TABLE IF NOT EXISTS song_history__by_session (\n",
    "    session_id int, \n",
    "    item_in_session int, \n",
    "    artist text, \n",
    "    song text, \n",
    "    length double, \n",
    "    PRIMARY KEY (session_id, item_in_session)\n",
    ")\n",
    "\"\"\"\n",
    "try:\n",
    "    session.execute(create_query)\n",
    "except Exception as e:\n",
    "    print(e) "
   ]
  },
  {
   "cell_type": "markdown",
   "metadata": {
    "editable": true
   },
   "source": [
    "#### 2.3.2 Load data"
   ]
  },
  {
   "cell_type": "code",
   "execution_count": 8,
   "metadata": {
    "editable": true
   },
   "outputs": [],
   "source": [
    "insert_stmt = session.prepare(\"\"\"\n",
    "INSERT INTO song_history__by_session \n",
    "(session_id, item_in_session, artist, song, length)\n",
    "VALUES (?, ?, ?, ?, ?)\n",
    "\"\"\")\n",
    "\n",
    "with open(COLLECTED_EVENTS_CSV, encoding=\"utf8\") as f:\n",
    "    csvreader = csv.DictReader(f)\n",
    "    for line in csvreader:\n",
    "        data = (\n",
    "            int(line[\"sessionId\"]), \n",
    "            int(line[\"itemInSession\"]), \n",
    "            line[\"artist\"], \n",
    "            line[\"song\"], \n",
    "            float(line[\"length\"]),\n",
    "        )\n",
    "        session.execute(insert_stmt, data)"
   ]
  },
  {
   "cell_type": "markdown",
   "metadata": {
    "editable": true
   },
   "source": [
    "#### 2.3.3 Answer to question 1"
   ]
  },
  {
   "cell_type": "code",
   "execution_count": 9,
   "metadata": {
    "editable": true
   },
   "outputs": [
    {
     "name": "stdout",
     "output_type": "stream",
     "text": [
      "Faithless Music Matters (Mark Knight Dub) 495.3073\n"
     ]
    }
   ],
   "source": [
    "query = \"SELECT * FROM song_history__by_session WHERE session_id = %s AND item_in_session = %s\"\n",
    "try:\n",
    "    rows = session.execute(query, (338, 4))\n",
    "except Exception as e:\n",
    "    print(e)\n",
    "    \n",
    "for row in rows:\n",
    "    print(row.artist, row.song, row.length)"
   ]
  },
  {
   "cell_type": "markdown",
   "metadata": {
    "editable": true
   },
   "source": [
    "### 2.4 Question 2\n",
    "\n",
    "Give me only the following: name of artist, song (sorted by itemInSession) and user (first and last name) for userid = 10, sessionid = 182"
   ]
  },
  {
   "cell_type": "markdown",
   "metadata": {
    "editable": true
   },
   "source": [
    "#### 2.4.1 Table\n",
    "\n",
    "In order to answer this query, we'll need to set a partition key of `user_id`. We'll also need clustering columns for `session_id` and `item_in_session` to distinguish unique rows.\n",
    "\n",
    "The results in the primary key will be sorted in ascending order, so this meets the requirement of sorting by song via `item_in_session`.\n",
    "\n",
    "We will also include columns for `first_name`, `last_name`, `artist`, and `song` which are required for answering the query in question."
   ]
  },
  {
   "cell_type": "code",
   "execution_count": 10,
   "metadata": {
    "editable": true
   },
   "outputs": [],
   "source": [
    "# Drop the song_history__by_user_session table in case we need to rerun some cells\n",
    "drop_query = \"DROP TABLE IF EXISTS song_history__by_user_session;\"\n",
    "try:\n",
    "    session.execute(drop_query)\n",
    "except Exception as e:\n",
    "    print(e) \n",
    "\n",
    "# Create the song_history__by_user_session\n",
    "create_query = \"\"\"\n",
    "CREATE TABLE IF NOT EXISTS song_history__by_user_session (\n",
    "    user_id int,\n",
    "    session_id int, \n",
    "    item_in_session int, \n",
    "    first_name text,\n",
    "    last_name text,    \n",
    "    artist text, \n",
    "    song text,\n",
    "    PRIMARY KEY (user_id, session_id, item_in_session)\n",
    ")\n",
    "\"\"\"  \n",
    "try:\n",
    "    session.execute(create_query)\n",
    "except Exception as e:\n",
    "    print(e) "
   ]
  },
  {
   "cell_type": "markdown",
   "metadata": {
    "editable": true
   },
   "source": [
    "#### 2.4.2 Load data"
   ]
  },
  {
   "cell_type": "code",
   "execution_count": 11,
   "metadata": {
    "editable": true
   },
   "outputs": [],
   "source": [
    "insert_stmt = session.prepare(\"\"\"\n",
    "INSERT INTO song_history__by_user_session \n",
    "(user_id, session_id, item_in_session, first_name, last_name, artist, song)\n",
    "VALUES (?, ?, ?, ?, ?, ?, ?)\n",
    "\"\"\")\n",
    "\n",
    "with open(COLLECTED_EVENTS_CSV, encoding=\"utf8\") as f:\n",
    "    csvreader = csv.DictReader(f)\n",
    "    for line in csvreader:\n",
    "        data = (\n",
    "            int(line[\"userId\"]),             \n",
    "            int(line[\"sessionId\"]), \n",
    "            int(line[\"itemInSession\"]), \n",
    "            line[\"firstName\"],             \n",
    "            line[\"lastName\"],                         \n",
    "            line[\"artist\"], \n",
    "            line[\"song\"], \n",
    "        )\n",
    "        session.execute(insert_stmt, data)"
   ]
  },
  {
   "cell_type": "markdown",
   "metadata": {
    "editable": true
   },
   "source": [
    "#### 2.4.3 Answer to question 2"
   ]
  },
  {
   "cell_type": "code",
   "execution_count": 12,
   "metadata": {
    "editable": true
   },
   "outputs": [
    {
     "name": "stdout",
     "output_type": "stream",
     "text": [
      "Down To The Bone Keep On Keepin' On Sylvie Cruz\n",
      "Three Drives Greece 2000 Sylvie Cruz\n",
      "Sebastien Tellier Kilometer Sylvie Cruz\n",
      "Lonnie Gordon Catch You Baby (Steve Pitron & Max Sanna Radio Edit) Sylvie Cruz\n"
     ]
    }
   ],
   "source": [
    "query = \"\"\"\n",
    "SELECT artist, song, first_name, last_name \n",
    "FROM song_history__by_user_session \n",
    "WHERE user_id = %s AND session_id = %s\n",
    "\"\"\"\n",
    "\n",
    "try:\n",
    "    rows = session.execute(query, (10, 182))\n",
    "except Exception as e:\n",
    "    print(e)\n",
    "    \n",
    "for row in rows:\n",
    "    print(row.artist, row.song, row.first_name, row.last_name)"
   ]
  },
  {
   "cell_type": "markdown",
   "metadata": {
    "editable": true
   },
   "source": [
    "### 2.5 Question 3\n",
    "\n",
    "Give me every user name (first and last) in my music app history who listened to the song 'All Hands Against His Own'"
   ]
  },
  {
   "cell_type": "markdown",
   "metadata": {
    "editable": true
   },
   "source": [
    "#### 2.5.1 Table\n",
    "\n",
    "In order to answer this query, we'll need to set a partition key by `song` and add a clustering column by `user_id`.\n",
    "\n",
    "It makes sense to partition by song since we're filtering data by a song.\n",
    "\n",
    "Without the clustering key on `user_id`, the table will only have one row. This is because song would not be able to ensure uniqueness. Using `first_name`/`last_name` as clustering columns wouldn't work since it's possible that multiple user may have the same first and last name.\n",
    "\n",
    "We do not need `session_id` or `item_in_session` since we care about unique users and not how many times a user listened to a song."
   ]
  },
  {
   "cell_type": "code",
   "execution_count": 13,
   "metadata": {
    "editable": true
   },
   "outputs": [],
   "source": [
    "# Drop the song_history__by_song_user table in case we need to rerun some cells\n",
    "drop_query = \"DROP TABLE IF EXISTS song_history__by_song_user;\"\n",
    "try:\n",
    "    session.execute(drop_query)\n",
    "except Exception as e:\n",
    "    print(e) \n",
    "\n",
    "# Create the song_history__by_song_user\n",
    "create_query = \"\"\"\n",
    "CREATE TABLE IF NOT EXISTS song_history__by_song_user (\n",
    "    song text,\n",
    "    user_id int,\n",
    "    first_name text,\n",
    "    last_name text,    \n",
    "    PRIMARY KEY (song, user_id)\n",
    ")\n",
    "\"\"\"   \n",
    "try:\n",
    "    session.execute(create_query)\n",
    "except Exception as e:\n",
    "    print(e) "
   ]
  },
  {
   "cell_type": "markdown",
   "metadata": {
    "editable": true
   },
   "source": [
    "#### 2.5.2 Load data"
   ]
  },
  {
   "cell_type": "code",
   "execution_count": 14,
   "metadata": {
    "editable": true
   },
   "outputs": [],
   "source": [
    "insert_stmt = session.prepare(\"\"\"\n",
    "INSERT INTO song_history__by_song_user (song, user_id, first_name, last_name)\n",
    "VALUES (?, ?, ?, ?)\n",
    "\"\"\")\n",
    "\n",
    "with open(COLLECTED_EVENTS_CSV, encoding=\"utf8\") as f:\n",
    "    csvreader = csv.DictReader(f)\n",
    "    for line in csvreader:\n",
    "        data = (\n",
    "            line[\"song\"],            \n",
    "            int(line[\"userId\"]),             \n",
    "            line[\"firstName\"],             \n",
    "            line[\"lastName\"],                         \n",
    "        )\n",
    "        session.execute(insert_stmt, data)"
   ]
  },
  {
   "cell_type": "markdown",
   "metadata": {
    "editable": true
   },
   "source": [
    "#### 2.5.3 Answer to question 3"
   ]
  },
  {
   "cell_type": "code",
   "execution_count": 15,
   "metadata": {
    "editable": true
   },
   "outputs": [
    {
     "name": "stdout",
     "output_type": "stream",
     "text": [
      "Jacqueline Lynch\n",
      "Tegan Levine\n",
      "Sara Johnson\n"
     ]
    }
   ],
   "source": [
    "query = \"SELECT first_name, last_name FROM song_history__by_song_user WHERE song = %s\"\n",
    "try:\n",
    "    rows = session.execute(query, (\"All Hands Against His Own\",))\n",
    "except Exception as e:\n",
    "    print(e)\n",
    "    \n",
    "for row in rows:\n",
    "    print(row.first_name, row.last_name) "
   ]
  },
  {
   "cell_type": "markdown",
   "metadata": {
    "editable": true
   },
   "source": [
    "## 3. Clean up"
   ]
  },
  {
   "cell_type": "code",
   "execution_count": 16,
   "metadata": {
    "editable": true
   },
   "outputs": [],
   "source": [
    "try:\n",
    "    session.execute(\"DROP TABLE IF EXISTS song_history__by_session;\")\n",
    "except Exception as e:\n",
    "    print(e)\n",
    "    \n",
    "try:\n",
    "    session.execute(\"DROP TABLE IF EXISTS song_history__by_user_session;\")\n",
    "except Exception as e:\n",
    "    print(e) \n",
    "    \n",
    "try:\n",
    "    session.execute(\"DROP TABLE IF EXISTS song_history__by_song_user;\")\n",
    "except Exception as e:\n",
    "    print(e)     "
   ]
  },
  {
   "cell_type": "code",
   "execution_count": 17,
   "metadata": {
    "editable": true
   },
   "outputs": [],
   "source": [
    "session.shutdown()\n",
    "cluster.shutdown()"
   ]
  },
  {
   "cell_type": "code",
   "execution_count": null,
   "metadata": {
    "editable": true
   },
   "outputs": [],
   "source": []
  }
 ],
 "metadata": {
  "kernelspec": {
   "display_name": "Python 3",
   "language": "python",
   "name": "python3"
  },
  "language_info": {
   "codemirror_mode": {
    "name": "ipython",
    "version": 3
   },
   "file_extension": ".py",
   "mimetype": "text/x-python",
   "name": "python",
   "nbconvert_exporter": "python",
   "pygments_lexer": "ipython3",
   "version": "3.6.3"
  }
 },
 "nbformat": 4,
 "nbformat_minor": 4
}
